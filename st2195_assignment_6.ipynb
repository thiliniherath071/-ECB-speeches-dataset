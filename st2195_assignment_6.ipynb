{
 "cells": [
  {
   "cell_type": "code",
   "execution_count": 1,
   "id": "feddb551",
   "metadata": {},
   "outputs": [
    {
     "data": {
      "application/javascript": [
       "IPython.OutputArea.prototype._should_scroll = function(lines) {\n",
       "    return false;\n",
       "}\n"
      ],
      "text/plain": [
       "<IPython.core.display.Javascript object>"
      ]
     },
     "metadata": {},
     "output_type": "display_data"
    }
   ],
   "source": [
    "%%javascript\n",
    "IPython.OutputArea.prototype._should_scroll = function(lines) {\n",
    "    return false;\n",
    "}"
   ]
  },
  {
   "cell_type": "markdown",
   "id": "5cbf7ea6",
   "metadata": {},
   "source": [
    "## Load data\n",
    "\n",
    "Load in the data and handle multiple rows for the same day in speeches.csv the same way in the R solution:"
   ]
  },
  {
   "cell_type": "code",
   "execution_count": 2,
   "id": "319972e3",
   "metadata": {},
   "outputs": [
    {
     "data": {
      "text/html": [
       "<div>\n",
       "<style scoped>\n",
       "    .dataframe tbody tr th:only-of-type {\n",
       "        vertical-align: middle;\n",
       "    }\n",
       "\n",
       "    .dataframe tbody tr th {\n",
       "        vertical-align: top;\n",
       "    }\n",
       "\n",
       "    .dataframe thead th {\n",
       "        text-align: right;\n",
       "    }\n",
       "</style>\n",
       "<table border=\"1\" class=\"dataframe\">\n",
       "  <thead>\n",
       "    <tr style=\"text-align: right;\">\n",
       "      <th></th>\n",
       "      <th>date</th>\n",
       "      <th>contents</th>\n",
       "    </tr>\n",
       "  </thead>\n",
       "  <tbody>\n",
       "    <tr>\n",
       "      <th>0</th>\n",
       "      <td>1997-02-07</td>\n",
       "      <td>Conference organised by the Hungarian Bankin...</td>\n",
       "    </tr>\n",
       "    <tr>\n",
       "      <th>1</th>\n",
       "      <td>1997-03-10</td>\n",
       "      <td>Securing the benefits of EMU   Address by Al...</td>\n",
       "    </tr>\n",
       "    <tr>\n",
       "      <th>2</th>\n",
       "      <td>1997-04-22</td>\n",
       "      <td>Convergence and the role of the European Cen...</td>\n",
       "    </tr>\n",
       "    <tr>\n",
       "      <th>3</th>\n",
       "      <td>1997-04-30</td>\n",
       "      <td>The operation of monetary policy in stage th...</td>\n",
       "    </tr>\n",
       "    <tr>\n",
       "      <th>4</th>\n",
       "      <td>1997-05-13</td>\n",
       "      <td>The European Central Bank: independent and a...</td>\n",
       "    </tr>\n",
       "    <tr>\n",
       "      <th>...</th>\n",
       "      <td>...</td>\n",
       "      <td>...</td>\n",
       "    </tr>\n",
       "    <tr>\n",
       "      <th>1992</th>\n",
       "      <td>2022-11-24</td>\n",
       "      <td>SPEECH   Finding the right mix: monetary-fis...</td>\n",
       "    </tr>\n",
       "    <tr>\n",
       "      <th>1993</th>\n",
       "      <td>2022-11-28</td>\n",
       "      <td>SPEECH  Hearing of the Committee on Economic...</td>\n",
       "    </tr>\n",
       "    <tr>\n",
       "      <th>1994</th>\n",
       "      <td>2022-12-01</td>\n",
       "      <td>SPEECH   The European Climate Law and the Eu...</td>\n",
       "    </tr>\n",
       "    <tr>\n",
       "      <th>1995</th>\n",
       "      <td>2022-12-07</td>\n",
       "      <td>SPEECH  Crypto dominos: the bursting crypto ...</td>\n",
       "    </tr>\n",
       "    <tr>\n",
       "      <th>1996</th>\n",
       "      <td>2022-12-08</td>\n",
       "      <td>SPEECH  Macroprudential policy in Europe: bu...</td>\n",
       "    </tr>\n",
       "  </tbody>\n",
       "</table>\n",
       "<p>1997 rows × 2 columns</p>\n",
       "</div>"
      ],
      "text/plain": [
       "            date                                           contents\n",
       "0     1997-02-07    Conference organised by the Hungarian Bankin...\n",
       "1     1997-03-10    Securing the benefits of EMU   Address by Al...\n",
       "2     1997-04-22    Convergence and the role of the European Cen...\n",
       "3     1997-04-30    The operation of monetary policy in stage th...\n",
       "4     1997-05-13    The European Central Bank: independent and a...\n",
       "...          ...                                                ...\n",
       "1992  2022-11-24    SPEECH   Finding the right mix: monetary-fis...\n",
       "1993  2022-11-28    SPEECH  Hearing of the Committee on Economic...\n",
       "1994  2022-12-01    SPEECH   The European Climate Law and the Eu...\n",
       "1995  2022-12-07    SPEECH  Crypto dominos: the bursting crypto ...\n",
       "1996  2022-12-08    SPEECH  Macroprudential policy in Europe: bu...\n",
       "\n",
       "[1997 rows x 2 columns]"
      ]
     },
     "execution_count": 2,
     "metadata": {},
     "output_type": "execute_result"
    }
   ],
   "source": [
    "import pandas as pd\n",
    "\n",
    "# load in the data, note your paths to the data may be different from what are showing here\n",
    "fx = pd.read_csv(\"fx.csv\", skiprows=4, na_values=['-'])\n",
    "\n",
    "fx.columns = [\"date\", \"exchange_rate\"]\n",
    "speeches = pd.read_csv(\"speeches.csv\", sep='|', usecols=['date', 'contents'])\n",
    "speeches.dropna(inplace=True)\n",
    "speeches = speeches.groupby(\"date\")['contents'].apply(lambda x: \" \".join(x.astype(str))).reset_index()\n",
    "speeches"
   ]
  },
  {
   "cell_type": "code",
   "execution_count": 3,
   "id": "1d233005",
   "metadata": {
    "scrolled": true
   },
   "outputs": [],
   "source": [
    "df = pd.merge(fx, speeches, how = 'left')\n",
    "df['date'] = pd.to_datetime(df['date'])\n",
    "df.set_index('date', inplace= True)"
   ]
  },
  {
   "cell_type": "markdown",
   "id": "4b177df0",
   "metadata": {},
   "source": [
    "## Remove entries with obvious outliers or mistakes"
   ]
  },
  {
   "cell_type": "markdown",
   "id": "d3c89e74",
   "metadata": {},
   "source": [
    "We first see if there is any obvious outliers or mistakes by plotting the data:"
   ]
  },
  {
   "cell_type": "code",
   "execution_count": 4,
   "id": "85797cdc",
   "metadata": {
    "scrolled": false
   },
   "outputs": [
    {
     "data": {
      "text/plain": [
       "<AxesSubplot:xlabel='date'>"
      ]
     },
     "execution_count": 4,
     "metadata": {},
     "output_type": "execute_result"
    },
    {
     "data": {
      "image/png": "[encoded data removed]",
      "text/plain": [
       "<Figure size 432x288 with 1 Axes>"
      ]
     },
     "metadata": {
      "needs_background": "light"
     },
     "output_type": "display_data"
    }
   ],
   "source": [
    "df.plot()"
   ]
  },
  {
   "cell_type": "markdown",
   "id": "15f2df86",
   "metadata": {},
   "source": [
    "And look at the summary statistics:"
   ]
  },
  {
   "cell_type": "code",
   "execution_count": 5,
   "id": "5361ac31",
   "metadata": {
    "scrolled": false
   },
   "outputs": [
    {
     "data": {
      "text/html": [
       "<div>\n",
       "<style scoped>\n",
       "    .dataframe tbody tr th:only-of-type {\n",
       "        vertical-align: middle;\n",
       "    }\n",
       "\n",
       "    .dataframe tbody tr th {\n",
       "        vertical-align: top;\n",
       "    }\n",
       "\n",
       "    .dataframe thead th {\n",
       "        text-align: right;\n",
       "    }\n",
       "</style>\n",
       "<table border=\"1\" class=\"dataframe\">\n",
       "  <thead>\n",
       "    <tr style=\"text-align: right;\">\n",
       "      <th></th>\n",
       "      <th>exchange_rate</th>\n",
       "    </tr>\n",
       "  </thead>\n",
       "  <tbody>\n",
       "    <tr>\n",
       "      <th>count</th>\n",
       "      <td>6150.000000</td>\n",
       "    </tr>\n",
       "    <tr>\n",
       "      <th>mean</th>\n",
       "      <td>1.192772</td>\n",
       "    </tr>\n",
       "    <tr>\n",
       "      <th>std</th>\n",
       "      <td>0.158627</td>\n",
       "    </tr>\n",
       "    <tr>\n",
       "      <th>min</th>\n",
       "      <td>0.825200</td>\n",
       "    </tr>\n",
       "    <tr>\n",
       "      <th>25%</th>\n",
       "      <td>1.093300</td>\n",
       "    </tr>\n",
       "    <tr>\n",
       "      <th>50%</th>\n",
       "      <td>1.187650</td>\n",
       "    </tr>\n",
       "    <tr>\n",
       "      <th>75%</th>\n",
       "      <td>1.311475</td>\n",
       "    </tr>\n",
       "    <tr>\n",
       "      <th>max</th>\n",
       "      <td>1.599000</td>\n",
       "    </tr>\n",
       "  </tbody>\n",
       "</table>\n",
       "</div>"
      ],
      "text/plain": [
       "       exchange_rate\n",
       "count    6150.000000\n",
       "mean        1.192772\n",
       "std         0.158627\n",
       "min         0.825200\n",
       "25%         1.093300\n",
       "50%         1.187650\n",
       "75%         1.311475\n",
       "max         1.599000"
      ]
     },
     "execution_count": 5,
     "metadata": {},
     "output_type": "execute_result"
    }
   ],
   "source": [
    "df.describe()"
   ]
  },
  {
   "cell_type": "markdown",
   "id": "39a56a14",
   "metadata": {},
   "source": [
    "The data does not seem to have obvious outliers or mistakes. "
   ]
  },
  {
   "cell_type": "markdown",
   "id": "d13e9e74",
   "metadata": {},
   "source": [
    "## 3.\tHandle missing observations\n",
    "\n",
    "We can see that there are some missing data:"
   ]
  },
  {
   "cell_type": "code",
   "execution_count": 6,
   "id": "5287a47d",
   "metadata": {
    "scrolled": false
   },
   "outputs": [
    {
     "data": {
      "text/plain": [
       "exchange_rate      62\n",
       "contents         4380\n",
       "dtype: int64"
      ]
     },
     "execution_count": 6,
     "metadata": {},
     "output_type": "execute_result"
    }
   ],
   "source": [
    "df.isna().sum()"
   ]
  },
  {
   "cell_type": "markdown",
   "id": "22d3ed36",
   "metadata": {},
   "source": [
    "Here we fill in the exchange rate with the latest information available:"
   ]
  },
  {
   "cell_type": "code",
   "execution_count": 7,
   "id": "3e5848a6",
   "metadata": {},
   "outputs": [],
   "source": [
    "df.exchange_rate.fillna(method='bfill', inplace=True)"
   ]
  },
  {
   "cell_type": "markdown",
   "id": "4e499af4",
   "metadata": {},
   "source": [
    "We can see there is no more missing data for exchange rate:"
   ]
  },
  {
   "cell_type": "code",
   "execution_count": 8,
   "id": "28efcc7b",
   "metadata": {
    "scrolled": true
   },
   "outputs": [
    {
     "data": {
      "text/plain": [
       "exchange_rate       0\n",
       "contents         4380\n",
       "dtype: int64"
      ]
     },
     "execution_count": 8,
     "metadata": {},
     "output_type": "execute_result"
    }
   ],
   "source": [
    "df.isna().sum()"
   ]
  },
  {
   "cell_type": "markdown",
   "id": "17d5e564",
   "metadata": {},
   "source": [
    "\n",
    "## 4. Exchange rate return\n",
    "\n",
    "Get the return by using the formula: $R_{t} = \\frac{P_{t}-P_{t-1}}{P_{t-1}}$"
   ]
  },
  {
   "cell_type": "code",
   "execution_count": 9,
   "id": "66f42c77",
   "metadata": {
    "scrolled": true
   },
   "outputs": [],
   "source": [
    "df['return'] = df.exchange_rate.diff(-1)/df.exchange_rate"
   ]
  },
  {
   "cell_type": "markdown",
   "id": "5767547e",
   "metadata": {},
   "source": [
    "Extend the dataset with the variables \"good_news\" and \"bad_news\":"
   ]
  },
  {
   "cell_type": "code",
   "execution_count": 10,
   "id": "d9d85346",
   "metadata": {},
   "outputs": [],
   "source": [
    "df['good_news'] = (df['return'] > 0.5/100).astype(int)\n",
    "df['bad_news'] = (df['return'] < -0.5/100).astype(int)"
   ]
  },
  {
   "cell_type": "code",
   "execution_count": 11,
   "id": "cdb74c06",
   "metadata": {
    "scrolled": true
   },
   "outputs": [
    {
     "data": {
      "text/html": [
       "<div>\n",
       "<style scoped>\n",
       "    .dataframe tbody tr th:only-of-type {\n",
       "        vertical-align: middle;\n",
       "    }\n",
       "\n",
       "    .dataframe tbody tr th {\n",
       "        vertical-align: top;\n",
       "    }\n",
       "\n",
       "    .dataframe thead th {\n",
       "        text-align: right;\n",
       "    }\n",
       "</style>\n",
       "<table border=\"1\" class=\"dataframe\">\n",
       "  <thead>\n",
       "    <tr style=\"text-align: right;\">\n",
       "      <th></th>\n",
       "      <th>exchange_rate</th>\n",
       "      <th>contents</th>\n",
       "      <th>return</th>\n",
       "      <th>good_news</th>\n",
       "      <th>bad_news</th>\n",
       "    </tr>\n",
       "    <tr>\n",
       "      <th>date</th>\n",
       "      <th></th>\n",
       "      <th></th>\n",
       "      <th></th>\n",
       "      <th></th>\n",
       "      <th></th>\n",
       "    </tr>\n",
       "  </thead>\n",
       "  <tbody>\n",
       "    <tr>\n",
       "      <th>2023-01-04</th>\n",
       "      <td>1.0599</td>\n",
       "      <td>NaN</td>\n",
       "      <td>0.005095</td>\n",
       "      <td>1</td>\n",
       "      <td>0</td>\n",
       "    </tr>\n",
       "    <tr>\n",
       "      <th>2023-01-03</th>\n",
       "      <td>1.0545</td>\n",
       "      <td>NaN</td>\n",
       "      <td>-0.013087</td>\n",
       "      <td>0</td>\n",
       "      <td>1</td>\n",
       "    </tr>\n",
       "    <tr>\n",
       "      <th>2023-01-02</th>\n",
       "      <td>1.0683</td>\n",
       "      <td>NaN</td>\n",
       "      <td>0.001591</td>\n",
       "      <td>0</td>\n",
       "      <td>0</td>\n",
       "    </tr>\n",
       "    <tr>\n",
       "      <th>2022-12-30</th>\n",
       "      <td>1.0666</td>\n",
       "      <td>NaN</td>\n",
       "      <td>0.001594</td>\n",
       "      <td>0</td>\n",
       "      <td>0</td>\n",
       "    </tr>\n",
       "    <tr>\n",
       "      <th>2022-12-29</th>\n",
       "      <td>1.0649</td>\n",
       "      <td>NaN</td>\n",
       "      <td>0.000845</td>\n",
       "      <td>0</td>\n",
       "      <td>0</td>\n",
       "    </tr>\n",
       "  </tbody>\n",
       "</table>\n",
       "</div>"
      ],
      "text/plain": [
       "            exchange_rate contents    return  good_news  bad_news\n",
       "date                                                             \n",
       "2023-01-04         1.0599      NaN  0.005095          1         0\n",
       "2023-01-03         1.0545      NaN -0.013087          0         1\n",
       "2023-01-02         1.0683      NaN  0.001591          0         0\n",
       "2022-12-30         1.0666      NaN  0.001594          0         0\n",
       "2022-12-29         1.0649      NaN  0.000845          0         0"
      ]
     },
     "execution_count": 11,
     "metadata": {},
     "output_type": "execute_result"
    }
   ],
   "source": [
    "df.head()"
   ]
  },
  {
   "cell_type": "markdown",
   "id": "5a13b209",
   "metadata": {},
   "source": [
    "## 5. Associate words with `good_news`, `bad_news`\n",
    "\n",
    "Get the contents that associate with `good_news` and `bad_news`:"
   ]
  },
  {
   "cell_type": "code",
   "execution_count": 12,
   "id": "d8aee3c5",
   "metadata": {
    "scrolled": true
   },
   "outputs": [
    {
     "data": {
      "text/html": [
       "<div>\n",
       "<style scoped>\n",
       "    .dataframe tbody tr th:only-of-type {\n",
       "        vertical-align: middle;\n",
       "    }\n",
       "\n",
       "    .dataframe tbody tr th {\n",
       "        vertical-align: top;\n",
       "    }\n",
       "\n",
       "    .dataframe thead th {\n",
       "        text-align: right;\n",
       "    }\n",
       "</style>\n",
       "<table border=\"1\" class=\"dataframe\">\n",
       "  <thead>\n",
       "    <tr style=\"text-align: right;\">\n",
       "      <th></th>\n",
       "      <th>exchange_rate</th>\n",
       "      <th>contents</th>\n",
       "      <th>return</th>\n",
       "      <th>good_news</th>\n",
       "      <th>bad_news</th>\n",
       "    </tr>\n",
       "    <tr>\n",
       "      <th>date</th>\n",
       "      <th></th>\n",
       "      <th></th>\n",
       "      <th></th>\n",
       "      <th></th>\n",
       "      <th></th>\n",
       "    </tr>\n",
       "  </thead>\n",
       "  <tbody>\n",
       "    <tr>\n",
       "      <th>2022-12-08</th>\n",
       "      <td>1.0519</td>\n",
       "      <td>SPEECH  Macroprudential policy in Europe: bu...</td>\n",
       "      <td>-0.000951</td>\n",
       "      <td>0</td>\n",
       "      <td>0</td>\n",
       "    </tr>\n",
       "    <tr>\n",
       "      <th>2022-12-07</th>\n",
       "      <td>1.0529</td>\n",
       "      <td>SPEECH  Crypto dominos: the bursting crypto ...</td>\n",
       "      <td>0.001235</td>\n",
       "      <td>0</td>\n",
       "      <td>0</td>\n",
       "    </tr>\n",
       "    <tr>\n",
       "      <th>2022-12-01</th>\n",
       "      <td>1.0454</td>\n",
       "      <td>SPEECH   The European Climate Law and the Eu...</td>\n",
       "      <td>0.007461</td>\n",
       "      <td>1</td>\n",
       "      <td>0</td>\n",
       "    </tr>\n",
       "    <tr>\n",
       "      <th>2022-11-28</th>\n",
       "      <td>1.0463</td>\n",
       "      <td>SPEECH  Hearing of the Committee on Economic...</td>\n",
       "      <td>0.008411</td>\n",
       "      <td>1</td>\n",
       "      <td>0</td>\n",
       "    </tr>\n",
       "    <tr>\n",
       "      <th>2022-11-24</th>\n",
       "      <td>1.0413</td>\n",
       "      <td>SPEECH   Finding the right mix: monetary-fis...</td>\n",
       "      <td>0.008451</td>\n",
       "      <td>1</td>\n",
       "      <td>0</td>\n",
       "    </tr>\n",
       "  </tbody>\n",
       "</table>\n",
       "</div>"
      ],
      "text/plain": [
       "            exchange_rate                                           contents  \\\n",
       "date                                                                           \n",
       "2022-12-08         1.0519    SPEECH  Macroprudential policy in Europe: bu...   \n",
       "2022-12-07         1.0529    SPEECH  Crypto dominos: the bursting crypto ...   \n",
       "2022-12-01         1.0454    SPEECH   The European Climate Law and the Eu...   \n",
       "2022-11-28         1.0463    SPEECH  Hearing of the Committee on Economic...   \n",
       "2022-11-24         1.0413    SPEECH   Finding the right mix: monetary-fis...   \n",
       "\n",
       "              return  good_news  bad_news  \n",
       "date                                       \n",
       "2022-12-08 -0.000951          0         0  \n",
       "2022-12-07  0.001235          0         0  \n",
       "2022-12-01  0.007461          1         0  \n",
       "2022-11-28  0.008411          1         0  \n",
       "2022-11-24  0.008451          1         0  "
      ]
     },
     "execution_count": 12,
     "metadata": {},
     "output_type": "execute_result"
    }
   ],
   "source": [
    "# remove rows with NA \n",
    "df.dropna(inplace=True)\n",
    "df.head()"
   ]
  },
  {
   "cell_type": "code",
   "execution_count": 13,
   "id": "4a454b6c",
   "metadata": {},
   "outputs": [],
   "source": [
    "# get the contents related to \"good_news\" and \"bad_news\"\n",
    "good_news_contents = df.contents[df.good_news==1].str.cat(sep=' ')\n",
    "bad_news_contents = df.contents[df.bad_news==1].str.cat(sep=' ')"
   ]
  },
  {
   "cell_type": "markdown",
   "id": "c329ac05",
   "metadata": {},
   "source": [
    "Load in some stop words, which are words that used to form a sentence but does not add much meaning to a sentence. Example of stop words are \"a\", \"the\" \"does\", \"i\", etc. "
   ]
  },
  {
   "cell_type": "code",
   "execution_count": 14,
   "id": "0b94ce30",
   "metadata": {},
   "outputs": [],
   "source": [
    "stop_words = set(pd.read_csv(\"stop_words.txt\", header=None).iloc[:,0].tolist())"
   ]
  },
  {
   "cell_type": "markdown",
   "id": "0a9321e7",
   "metadata": {},
   "source": [
    "The function below helps us to get the most common words (excluding stop_words) related to `good_news` and `bad_news`. Please read the comments to understand how it works:"
   ]
  },
  {
   "cell_type": "code",
   "execution_count": 15,
   "id": "7c660848",
   "metadata": {},
   "outputs": [],
   "source": [
    "import string\n",
    "import collections\n",
    "\n",
    "def get_word_freq(contents, stop_words, num_words):\n",
    "    freq = dict()\n",
    "    for word in contents.split():\n",
    "        word = word.strip(string.punctuation+'–')\n",
    "        word = word.lower()\n",
    "        if word not in stop_words and len(word):\n",
    "            if word in freq:\n",
    "                freq[word] += 1\n",
    "            else:\n",
    "                freq[word] = 1\n",
    "    freq = dict(sorted(freq.items(), key = lambda item: -item[1]))\n",
    "    return list(freq.keys())[:num_words]"
   ]
  },
  {
   "cell_type": "markdown",
   "id": "b893348b",
   "metadata": {},
   "source": [
    "Use the function above to get the 20 most common words associated with `good_news` and `bad_news`"
   ]
  },
  {
   "cell_type": "code",
   "execution_count": 16,
   "id": "06303a86",
   "metadata": {},
   "outputs": [],
   "source": [
    "good_indicators = get_word_freq(good_news_contents, stop_words, num_words = 20)\n",
    "bad_indicators = get_word_freq(bad_news_contents, stop_words, num_words = 20)"
   ]
  },
  {
   "cell_type": "code",
   "execution_count": 17,
   "id": "27bec23d",
   "metadata": {
    "scrolled": true
   },
   "outputs": [
    {
     "data": {
      "text/plain": [
       "['euro',\n",
       " 'financial',\n",
       " 'policy',\n",
       " 'monetary',\n",
       " 'de',\n",
       " 'economic',\n",
       " 'market',\n",
       " 'central',\n",
       " 'inflation',\n",
       " 'stability',\n",
       " 'ecb',\n",
       " 'banks',\n",
       " 'european',\n",
       " 'der',\n",
       " 'price',\n",
       " 'die',\n",
       " 'growth',\n",
       " 'countries',\n",
       " 'la',\n",
       " 'markets']"
      ]
     },
     "execution_count": 17,
     "metadata": {},
     "output_type": "execute_result"
    }
   ],
   "source": [
    "good_indicators"
   ]
  },
  {
   "cell_type": "code",
   "execution_count": 18,
   "id": "ef815897",
   "metadata": {
    "scrolled": true
   },
   "outputs": [
    {
     "data": {
      "text/plain": [
       "['euro',\n",
       " 'financial',\n",
       " 'policy',\n",
       " 'monetary',\n",
       " 'market',\n",
       " 'central',\n",
       " 'de',\n",
       " 'economic',\n",
       " 'banks',\n",
       " 'stability',\n",
       " 'european',\n",
       " 'inflation',\n",
       " 'ecb',\n",
       " 'growth',\n",
       " 'price',\n",
       " 'bank',\n",
       " 'markets',\n",
       " 'la',\n",
       " 'countries',\n",
       " 'rates']"
      ]
     },
     "execution_count": 18,
     "metadata": {},
     "output_type": "execute_result"
    }
   ],
   "source": [
    "bad_indicators"
   ]
  },
  {
   "cell_type": "markdown",
   "id": "8130ac25",
   "metadata": {},
   "source": [
    "Note that many terms appear in both, and the results are not the same as R. It may because the `word_tokenizer()` in R may not work the same way as `split()` with `strip()`."
   ]
  },
  {
   "cell_type": "code",
   "execution_count": null,
   "id": "6db4c43c",
   "metadata": {},
   "outputs": [],
   "source": []
  }
 ],
 "metadata": {
  "kernelspec": {
   "display_name": "Python 3 (ipykernel)",
   "language": "python",
   "name": "python3"
  },
  "language_info": {
   "codemirror_mode": {
    "name": "ipython",
    "version": 3
   },
   "file_extension": ".py",
   "mimetype": "text/x-python",
   "name": "python",
   "nbconvert_exporter": "python",
   "pygments_lexer": "ipython3",
   "version": "3.11.3"
  }
 },
 "nbformat": 4,
 "nbformat_minor": 5
}
